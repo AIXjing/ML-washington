{
 "cells": [
  {
   "cell_type": "code",
   "execution_count": 1,
   "id": "88d4ea5d",
   "metadata": {},
   "outputs": [
    {
     "data": {
      "text/html": [
       "<div>\n",
       "<style scoped>\n",
       "    .dataframe tbody tr th:only-of-type {\n",
       "        vertical-align: middle;\n",
       "    }\n",
       "\n",
       "    .dataframe tbody tr th {\n",
       "        vertical-align: top;\n",
       "    }\n",
       "\n",
       "    .dataframe thead th {\n",
       "        text-align: right;\n",
       "    }\n",
       "</style>\n",
       "<table border=\"1\" class=\"dataframe\">\n",
       "  <thead>\n",
       "    <tr style=\"text-align: right;\">\n",
       "      <th></th>\n",
       "      <th>id</th>\n",
       "      <th>date</th>\n",
       "      <th>price</th>\n",
       "      <th>bedrooms</th>\n",
       "      <th>bathrooms</th>\n",
       "      <th>sqft_living</th>\n",
       "      <th>sqft_lot</th>\n",
       "      <th>floors</th>\n",
       "      <th>waterfront</th>\n",
       "      <th>view</th>\n",
       "      <th>...</th>\n",
       "      <th>grade</th>\n",
       "      <th>sqft_above</th>\n",
       "      <th>sqft_basement</th>\n",
       "      <th>yr_built</th>\n",
       "      <th>yr_renovated</th>\n",
       "      <th>zipcode</th>\n",
       "      <th>lat</th>\n",
       "      <th>long</th>\n",
       "      <th>sqft_living15</th>\n",
       "      <th>sqft_lot15</th>\n",
       "    </tr>\n",
       "  </thead>\n",
       "  <tbody>\n",
       "    <tr>\n",
       "      <th>0</th>\n",
       "      <td>7129300520</td>\n",
       "      <td>2014-10-13 00:00:00+00:00</td>\n",
       "      <td>221900.0</td>\n",
       "      <td>3.0</td>\n",
       "      <td>1.00</td>\n",
       "      <td>1180.0</td>\n",
       "      <td>5650.0</td>\n",
       "      <td>1.0</td>\n",
       "      <td>0</td>\n",
       "      <td>0</td>\n",
       "      <td>...</td>\n",
       "      <td>7.0</td>\n",
       "      <td>1180.0</td>\n",
       "      <td>0.0</td>\n",
       "      <td>1955.0</td>\n",
       "      <td>0.0</td>\n",
       "      <td>98178</td>\n",
       "      <td>47.511234</td>\n",
       "      <td>-122.256775</td>\n",
       "      <td>1340.0</td>\n",
       "      <td>5650.0</td>\n",
       "    </tr>\n",
       "    <tr>\n",
       "      <th>1</th>\n",
       "      <td>6414100192</td>\n",
       "      <td>2014-12-09 00:00:00+00:00</td>\n",
       "      <td>538000.0</td>\n",
       "      <td>3.0</td>\n",
       "      <td>2.25</td>\n",
       "      <td>2570.0</td>\n",
       "      <td>7242.0</td>\n",
       "      <td>2.0</td>\n",
       "      <td>0</td>\n",
       "      <td>0</td>\n",
       "      <td>...</td>\n",
       "      <td>7.0</td>\n",
       "      <td>2170.0</td>\n",
       "      <td>400.0</td>\n",
       "      <td>1951.0</td>\n",
       "      <td>1991.0</td>\n",
       "      <td>98125</td>\n",
       "      <td>47.721023</td>\n",
       "      <td>-122.318862</td>\n",
       "      <td>1690.0</td>\n",
       "      <td>7639.0</td>\n",
       "    </tr>\n",
       "    <tr>\n",
       "      <th>2</th>\n",
       "      <td>5631500400</td>\n",
       "      <td>2015-02-25 00:00:00+00:00</td>\n",
       "      <td>180000.0</td>\n",
       "      <td>2.0</td>\n",
       "      <td>1.00</td>\n",
       "      <td>770.0</td>\n",
       "      <td>10000.0</td>\n",
       "      <td>1.0</td>\n",
       "      <td>0</td>\n",
       "      <td>0</td>\n",
       "      <td>...</td>\n",
       "      <td>6.0</td>\n",
       "      <td>770.0</td>\n",
       "      <td>0.0</td>\n",
       "      <td>1933.0</td>\n",
       "      <td>0.0</td>\n",
       "      <td>98028</td>\n",
       "      <td>47.737927</td>\n",
       "      <td>-122.233196</td>\n",
       "      <td>2720.0</td>\n",
       "      <td>8062.0</td>\n",
       "    </tr>\n",
       "    <tr>\n",
       "      <th>3</th>\n",
       "      <td>2487200875</td>\n",
       "      <td>2014-12-09 00:00:00+00:00</td>\n",
       "      <td>604000.0</td>\n",
       "      <td>4.0</td>\n",
       "      <td>3.00</td>\n",
       "      <td>1960.0</td>\n",
       "      <td>5000.0</td>\n",
       "      <td>1.0</td>\n",
       "      <td>0</td>\n",
       "      <td>0</td>\n",
       "      <td>...</td>\n",
       "      <td>7.0</td>\n",
       "      <td>1050.0</td>\n",
       "      <td>910.0</td>\n",
       "      <td>1965.0</td>\n",
       "      <td>0.0</td>\n",
       "      <td>98136</td>\n",
       "      <td>47.520820</td>\n",
       "      <td>-122.393185</td>\n",
       "      <td>1360.0</td>\n",
       "      <td>5000.0</td>\n",
       "    </tr>\n",
       "    <tr>\n",
       "      <th>4</th>\n",
       "      <td>1954400510</td>\n",
       "      <td>2015-02-18 00:00:00+00:00</td>\n",
       "      <td>510000.0</td>\n",
       "      <td>3.0</td>\n",
       "      <td>2.00</td>\n",
       "      <td>1680.0</td>\n",
       "      <td>8080.0</td>\n",
       "      <td>1.0</td>\n",
       "      <td>0</td>\n",
       "      <td>0</td>\n",
       "      <td>...</td>\n",
       "      <td>8.0</td>\n",
       "      <td>1680.0</td>\n",
       "      <td>0.0</td>\n",
       "      <td>1987.0</td>\n",
       "      <td>0.0</td>\n",
       "      <td>98074</td>\n",
       "      <td>47.616812</td>\n",
       "      <td>-122.044901</td>\n",
       "      <td>1800.0</td>\n",
       "      <td>7503.0</td>\n",
       "    </tr>\n",
       "    <tr>\n",
       "      <th>...</th>\n",
       "      <td>...</td>\n",
       "      <td>...</td>\n",
       "      <td>...</td>\n",
       "      <td>...</td>\n",
       "      <td>...</td>\n",
       "      <td>...</td>\n",
       "      <td>...</td>\n",
       "      <td>...</td>\n",
       "      <td>...</td>\n",
       "      <td>...</td>\n",
       "      <td>...</td>\n",
       "      <td>...</td>\n",
       "      <td>...</td>\n",
       "      <td>...</td>\n",
       "      <td>...</td>\n",
       "      <td>...</td>\n",
       "      <td>...</td>\n",
       "      <td>...</td>\n",
       "      <td>...</td>\n",
       "      <td>...</td>\n",
       "      <td>...</td>\n",
       "    </tr>\n",
       "    <tr>\n",
       "      <th>21608</th>\n",
       "      <td>0263000018</td>\n",
       "      <td>2014-05-21 00:00:00+00:00</td>\n",
       "      <td>360000.0</td>\n",
       "      <td>3.0</td>\n",
       "      <td>2.50</td>\n",
       "      <td>1530.0</td>\n",
       "      <td>1131.0</td>\n",
       "      <td>3.0</td>\n",
       "      <td>0</td>\n",
       "      <td>0</td>\n",
       "      <td>...</td>\n",
       "      <td>8.0</td>\n",
       "      <td>1530.0</td>\n",
       "      <td>0.0</td>\n",
       "      <td>2009.0</td>\n",
       "      <td>0.0</td>\n",
       "      <td>98103</td>\n",
       "      <td>47.699285</td>\n",
       "      <td>-122.346105</td>\n",
       "      <td>1530.0</td>\n",
       "      <td>1509.0</td>\n",
       "    </tr>\n",
       "    <tr>\n",
       "      <th>21609</th>\n",
       "      <td>6600060120</td>\n",
       "      <td>2015-02-23 00:00:00+00:00</td>\n",
       "      <td>400000.0</td>\n",
       "      <td>4.0</td>\n",
       "      <td>2.50</td>\n",
       "      <td>2310.0</td>\n",
       "      <td>5813.0</td>\n",
       "      <td>2.0</td>\n",
       "      <td>0</td>\n",
       "      <td>0</td>\n",
       "      <td>...</td>\n",
       "      <td>8.0</td>\n",
       "      <td>2310.0</td>\n",
       "      <td>0.0</td>\n",
       "      <td>2014.0</td>\n",
       "      <td>0.0</td>\n",
       "      <td>98146</td>\n",
       "      <td>47.510733</td>\n",
       "      <td>-122.361867</td>\n",
       "      <td>1830.0</td>\n",
       "      <td>7200.0</td>\n",
       "    </tr>\n",
       "    <tr>\n",
       "      <th>21610</th>\n",
       "      <td>1523300141</td>\n",
       "      <td>2014-06-23 00:00:00+00:00</td>\n",
       "      <td>402101.0</td>\n",
       "      <td>2.0</td>\n",
       "      <td>0.75</td>\n",
       "      <td>1020.0</td>\n",
       "      <td>1350.0</td>\n",
       "      <td>2.0</td>\n",
       "      <td>0</td>\n",
       "      <td>0</td>\n",
       "      <td>...</td>\n",
       "      <td>7.0</td>\n",
       "      <td>1020.0</td>\n",
       "      <td>0.0</td>\n",
       "      <td>2009.0</td>\n",
       "      <td>0.0</td>\n",
       "      <td>98144</td>\n",
       "      <td>47.594358</td>\n",
       "      <td>-122.298654</td>\n",
       "      <td>1020.0</td>\n",
       "      <td>2007.0</td>\n",
       "    </tr>\n",
       "    <tr>\n",
       "      <th>21611</th>\n",
       "      <td>0291310100</td>\n",
       "      <td>2015-01-16 00:00:00+00:00</td>\n",
       "      <td>400000.0</td>\n",
       "      <td>3.0</td>\n",
       "      <td>2.50</td>\n",
       "      <td>1600.0</td>\n",
       "      <td>2388.0</td>\n",
       "      <td>2.0</td>\n",
       "      <td>0</td>\n",
       "      <td>0</td>\n",
       "      <td>...</td>\n",
       "      <td>8.0</td>\n",
       "      <td>1600.0</td>\n",
       "      <td>0.0</td>\n",
       "      <td>2004.0</td>\n",
       "      <td>0.0</td>\n",
       "      <td>98027</td>\n",
       "      <td>47.534499</td>\n",
       "      <td>-122.069087</td>\n",
       "      <td>1410.0</td>\n",
       "      <td>1287.0</td>\n",
       "    </tr>\n",
       "    <tr>\n",
       "      <th>21612</th>\n",
       "      <td>1523300157</td>\n",
       "      <td>2014-10-15 00:00:00+00:00</td>\n",
       "      <td>325000.0</td>\n",
       "      <td>2.0</td>\n",
       "      <td>0.75</td>\n",
       "      <td>1020.0</td>\n",
       "      <td>1076.0</td>\n",
       "      <td>2.0</td>\n",
       "      <td>0</td>\n",
       "      <td>0</td>\n",
       "      <td>...</td>\n",
       "      <td>7.0</td>\n",
       "      <td>1020.0</td>\n",
       "      <td>0.0</td>\n",
       "      <td>2008.0</td>\n",
       "      <td>0.0</td>\n",
       "      <td>98144</td>\n",
       "      <td>47.594059</td>\n",
       "      <td>-122.298635</td>\n",
       "      <td>1020.0</td>\n",
       "      <td>1357.0</td>\n",
       "    </tr>\n",
       "  </tbody>\n",
       "</table>\n",
       "<p>21613 rows × 21 columns</p>\n",
       "</div>"
      ],
      "text/plain": [
       "               id                       date     price  bedrooms  bathrooms  \\\n",
       "0      7129300520  2014-10-13 00:00:00+00:00  221900.0       3.0       1.00   \n",
       "1      6414100192  2014-12-09 00:00:00+00:00  538000.0       3.0       2.25   \n",
       "2      5631500400  2015-02-25 00:00:00+00:00  180000.0       2.0       1.00   \n",
       "3      2487200875  2014-12-09 00:00:00+00:00  604000.0       4.0       3.00   \n",
       "4      1954400510  2015-02-18 00:00:00+00:00  510000.0       3.0       2.00   \n",
       "...           ...                        ...       ...       ...        ...   \n",
       "21608  0263000018  2014-05-21 00:00:00+00:00  360000.0       3.0       2.50   \n",
       "21609  6600060120  2015-02-23 00:00:00+00:00  400000.0       4.0       2.50   \n",
       "21610  1523300141  2014-06-23 00:00:00+00:00  402101.0       2.0       0.75   \n",
       "21611  0291310100  2015-01-16 00:00:00+00:00  400000.0       3.0       2.50   \n",
       "21612  1523300157  2014-10-15 00:00:00+00:00  325000.0       2.0       0.75   \n",
       "\n",
       "       sqft_living  sqft_lot  floors  waterfront  view  ...  grade  \\\n",
       "0           1180.0    5650.0     1.0           0     0  ...    7.0   \n",
       "1           2570.0    7242.0     2.0           0     0  ...    7.0   \n",
       "2            770.0   10000.0     1.0           0     0  ...    6.0   \n",
       "3           1960.0    5000.0     1.0           0     0  ...    7.0   \n",
       "4           1680.0    8080.0     1.0           0     0  ...    8.0   \n",
       "...            ...       ...     ...         ...   ...  ...    ...   \n",
       "21608       1530.0    1131.0     3.0           0     0  ...    8.0   \n",
       "21609       2310.0    5813.0     2.0           0     0  ...    8.0   \n",
       "21610       1020.0    1350.0     2.0           0     0  ...    7.0   \n",
       "21611       1600.0    2388.0     2.0           0     0  ...    8.0   \n",
       "21612       1020.0    1076.0     2.0           0     0  ...    7.0   \n",
       "\n",
       "       sqft_above  sqft_basement  yr_built  yr_renovated  zipcode        lat  \\\n",
       "0          1180.0            0.0    1955.0           0.0    98178  47.511234   \n",
       "1          2170.0          400.0    1951.0        1991.0    98125  47.721023   \n",
       "2           770.0            0.0    1933.0           0.0    98028  47.737927   \n",
       "3          1050.0          910.0    1965.0           0.0    98136  47.520820   \n",
       "4          1680.0            0.0    1987.0           0.0    98074  47.616812   \n",
       "...           ...            ...       ...           ...      ...        ...   \n",
       "21608      1530.0            0.0    2009.0           0.0    98103  47.699285   \n",
       "21609      2310.0            0.0    2014.0           0.0    98146  47.510733   \n",
       "21610      1020.0            0.0    2009.0           0.0    98144  47.594358   \n",
       "21611      1600.0            0.0    2004.0           0.0    98027  47.534499   \n",
       "21612      1020.0            0.0    2008.0           0.0    98144  47.594059   \n",
       "\n",
       "             long  sqft_living15  sqft_lot15  \n",
       "0     -122.256775         1340.0      5650.0  \n",
       "1     -122.318862         1690.0      7639.0  \n",
       "2     -122.233196         2720.0      8062.0  \n",
       "3     -122.393185         1360.0      5000.0  \n",
       "4     -122.044901         1800.0      7503.0  \n",
       "...           ...            ...         ...  \n",
       "21608 -122.346105         1530.0      1509.0  \n",
       "21609 -122.361867         1830.0      7200.0  \n",
       "21610 -122.298654         1020.0      2007.0  \n",
       "21611 -122.069087         1410.0      1287.0  \n",
       "21612 -122.298635         1020.0      1357.0  \n",
       "\n",
       "[21613 rows x 21 columns]"
      ]
     },
     "execution_count": 1,
     "metadata": {},
     "output_type": "execute_result"
    }
   ],
   "source": [
    "import turicreate as tc\n",
    "sales = tc.SFrame('home_data.sframe').to_dataframe()\n",
    "sales"
   ]
  },
  {
   "cell_type": "code",
   "execution_count": 2,
   "id": "71048e24",
   "metadata": {},
   "outputs": [
    {
     "data": {
      "text/plain": [
       "Index(['id', 'date', 'price', 'bedrooms', 'bathrooms', 'sqft_living',\n",
       "       'sqft_lot', 'floors', 'waterfront', 'view', 'condition', 'grade',\n",
       "       'sqft_above', 'sqft_basement', 'yr_built', 'yr_renovated', 'zipcode',\n",
       "       'lat', 'long', 'sqft_living15', 'sqft_lot15'],\n",
       "      dtype='object')"
      ]
     },
     "execution_count": 2,
     "metadata": {},
     "output_type": "execute_result"
    }
   ],
   "source": [
    "sales.columns"
   ]
  },
  {
   "cell_type": "code",
   "execution_count": 3,
   "id": "b39109d6",
   "metadata": {},
   "outputs": [],
   "source": [
    "import pandas as pd\n",
    "import matplotlib.pyplot as plt"
   ]
  },
  {
   "cell_type": "code",
   "execution_count": 4,
   "id": "9460268b",
   "metadata": {},
   "outputs": [
    {
     "data": {
      "text/plain": [
       "<matplotlib.collections.PathCollection at 0x144ecd820>"
      ]
     },
     "execution_count": 4,
     "metadata": {},
     "output_type": "execute_result"
    },
    {
     "data": {
      "image/png": "[encoded data removed]",
      "text/plain": [
       "<Figure size 432x288 with 1 Axes>"
      ]
     },
     "metadata": {
      "needs_background": "light"
     },
     "output_type": "display_data"
    }
   ],
   "source": [
    "plt.scatter(sales['sqft_living'][1:5000], sales['price'][1:5000])"
   ]
  },
  {
   "cell_type": "markdown",
   "id": "fd2d3a0d",
   "metadata": {},
   "source": [
    "## Split data into training and testing sets"
   ]
  },
  {
   "cell_type": "code",
   "execution_count": 36,
   "id": "79ac27f5",
   "metadata": {},
   "outputs": [],
   "source": [
    "from sklearn.model_selection import train_test_split\n",
    "\n",
    "train, test = train_test_split(sales, test_size=0.2, random_state=42, shuffle=False)"
   ]
  },
  {
   "cell_type": "markdown",
   "id": "3da9f62e",
   "metadata": {},
   "source": [
    "## Fit training data with linear regression"
   ]
  },
  {
   "cell_type": "code",
   "execution_count": 6,
   "id": "b83869e4",
   "metadata": {},
   "outputs": [],
   "source": [
    "from sklearn.linear_model import LinearRegression\n",
    "from sklearn.metrics import mean_squared_error, r2_score\n",
    "import numpy as np"
   ]
  },
  {
   "cell_type": "code",
   "execution_count": 37,
   "id": "2809d33a",
   "metadata": {},
   "outputs": [],
   "source": [
    "train_X = train[['sqft_living']]\n",
    "train_y = train[['price']]\n",
    "reg = LinearRegression().fit(train_X, train_y)"
   ]
  },
  {
   "cell_type": "code",
   "execution_count": 8,
   "id": "3b54491a",
   "metadata": {},
   "outputs": [
    {
     "name": "stdout",
     "output_type": "stream",
     "text": [
      "367707026180.0044\n"
     ]
    }
   ],
   "source": [
    "X = np.array(train[['sqft_living']])\n",
    "y = np.array(train[['price']])\n",
    "reg3 = LinearRegression().fit(X, y)\n",
    "y_test = np.array(test[['sqft_living']])\n",
    "\n",
    "pred_y_array = reg3.predict(y_test)\n",
    "print(mean_squared_error(y_test, pred_y_array))"
   ]
  },
  {
   "cell_type": "markdown",
   "id": "4a8198e0",
   "metadata": {},
   "source": [
    "### Difference between `train[['sqft_living']]` and `train[['price']]`\n",
    "\n",
    "- type of `train[['sqft_living']]`: DataFrame\n",
    "\n",
    "- type of `train['sqft_living']`: Series"
   ]
  },
  {
   "cell_type": "markdown",
   "id": "c3071ae4",
   "metadata": {},
   "source": [
    "## Make predictions using the testing set"
   ]
  },
  {
   "cell_type": "code",
   "execution_count": 40,
   "id": "6421557b",
   "metadata": {},
   "outputs": [
    {
     "name": "stdout",
     "output_type": "stream",
     "text": [
      "type(text_x):  <class 'pandas.core.frame.DataFrame'>\n",
      "type(text_y):  <class 'pandas.core.frame.DataFrame'>\n",
      "type(pred_y):  <class 'numpy.ndarray'>\n"
     ]
    }
   ],
   "source": [
    "test_x = test[['sqft_living']]\n",
    "pred_y = reg.predict(test_x)\n",
    "test_y = test[['price']]\n",
    "\n",
    "print(\"type(text_x): \", type(test_x))\n",
    "print(\"type(text_y): \", type(test_y))\n",
    "print(\"type(pred_y): \", type(pred_y))"
   ]
  },
  {
   "cell_type": "markdown",
   "id": "c98d98ea",
   "metadata": {},
   "source": [
    "## Evaluate fitting"
   ]
  },
  {
   "cell_type": "code",
   "execution_count": 41,
   "id": "6aefab02",
   "metadata": {},
   "outputs": [
    {
     "name": "stdout",
     "output_type": "stream",
     "text": [
      "Coefficients: 283.88\n",
      "Intercept: -49860.77\n",
      "Mean squared error: 69699591867.50\n",
      "Root Mean squared error: 264006.80\n",
      "Coefficient of determination: 0.49\n"
     ]
    }
   ],
   "source": [
    "# The coefficients\n",
    "print(\"Coefficients: %.2f\" % reg.coef_)\n",
    "# The intercept\n",
    "print(\"Intercept: %.2f\" % reg.intercept_)\n",
    "\n",
    "# The mean squared error\n",
    "print(\"Mean squared error: %.2f\" % mean_squared_error(test_y, pred_y))\n",
    "\n",
    "# The root mean squared error\n",
    "print(\"Root Mean squared error: %.2f\" % np.sqrt(mean_squared_error(test_y, pred_y)))\n",
    "# The coefficient of determination: 1 is perfect prediction\n",
    "\n",
    "# The coefficient of determination: 1 is perfect prediction\n",
    "print(\"Coefficient of determination: %.2f\" % r2_score(test_y, pred_y))"
   ]
  },
  {
   "cell_type": "markdown",
   "id": "a9b7d41f",
   "metadata": {},
   "source": [
    "## Visualization"
   ]
  },
  {
   "cell_type": "code",
   "execution_count": 42,
   "id": "51964854",
   "metadata": {},
   "outputs": [
    {
     "data": {
      "image/png": "[encoded data removed]",
      "text/plain": [
       "<Figure size 432x288 with 1 Axes>"
      ]
     },
     "metadata": {
      "needs_background": "light"
     },
     "output_type": "display_data"
    }
   ],
   "source": [
    "%matplotlib inline\n",
    "plt.scatter(test_x, test_y, color='blue')\n",
    "plt.plot(test_x['sqft_living'], pred_y, color='red', linewidth=3)\n",
    "\n",
    "plt.show()"
   ]
  },
  {
   "cell_type": "markdown",
   "id": "cd6c356a",
   "metadata": {},
   "source": [
    "## Explore other features of the data"
   ]
  },
  {
   "cell_type": "code",
   "execution_count": 49,
   "id": "6ea367f4",
   "metadata": {},
   "outputs": [],
   "source": [
    "from sklearn.preprocessing import OneHotEncoder"
   ]
  },
  {
   "cell_type": "code",
   "execution_count": 85,
   "id": "7db3878a",
   "metadata": {},
   "outputs": [],
   "source": [
    "features = ['bedrooms','bathrooms','sqft_living','sqft_lot','floors']\n"
   ]
  },
  {
   "cell_type": "code",
   "execution_count": 14,
   "id": "fe2462d5",
   "metadata": {
    "scrolled": true
   },
   "outputs": [
    {
     "data": {
      "text/plain": [
       "<matplotlib.collections.PathCollection at 0x1500f4730>"
      ]
     },
     "execution_count": 14,
     "metadata": {},
     "output_type": "execute_result"
    },
    {
     "data": {
      "image/png": "[encoded data removed]",
      "text/plain": [
       "<Figure size 432x288 with 1 Axes>"
      ]
     },
     "metadata": {
      "needs_background": "light"
     },
     "output_type": "display_data"
    }
   ],
   "source": [
    "#plt.scatter(sales['zipcode'], sales['price'])"
   ]
  },
  {
   "cell_type": "code",
   "execution_count": 86,
   "id": "a1d73e25",
   "metadata": {},
   "outputs": [],
   "source": [
    "train_X2 = train[features]\n",
    "train_y2 = train[['price']]\n",
    "reg2 = LinearRegression().fit(train_X2, train_y2)"
   ]
  },
  {
   "cell_type": "code",
   "execution_count": 87,
   "id": "5af2fc71",
   "metadata": {},
   "outputs": [
    {
     "data": {
      "text/html": [
       "<div>\n",
       "<style scoped>\n",
       "    .dataframe tbody tr th:only-of-type {\n",
       "        vertical-align: middle;\n",
       "    }\n",
       "\n",
       "    .dataframe tbody tr th {\n",
       "        vertical-align: top;\n",
       "    }\n",
       "\n",
       "    .dataframe thead th {\n",
       "        text-align: right;\n",
       "    }\n",
       "</style>\n",
       "<table border=\"1\" class=\"dataframe\">\n",
       "  <thead>\n",
       "    <tr style=\"text-align: right;\">\n",
       "      <th></th>\n",
       "      <th>bedrooms</th>\n",
       "      <th>bathrooms</th>\n",
       "      <th>sqft_living</th>\n",
       "      <th>sqft_lot</th>\n",
       "      <th>floors</th>\n",
       "    </tr>\n",
       "  </thead>\n",
       "  <tbody>\n",
       "    <tr>\n",
       "      <th>0</th>\n",
       "      <td>3.0</td>\n",
       "      <td>1.00</td>\n",
       "      <td>1180.0</td>\n",
       "      <td>5650.0</td>\n",
       "      <td>1.0</td>\n",
       "    </tr>\n",
       "    <tr>\n",
       "      <th>1</th>\n",
       "      <td>3.0</td>\n",
       "      <td>2.25</td>\n",
       "      <td>2570.0</td>\n",
       "      <td>7242.0</td>\n",
       "      <td>2.0</td>\n",
       "    </tr>\n",
       "    <tr>\n",
       "      <th>2</th>\n",
       "      <td>2.0</td>\n",
       "      <td>1.00</td>\n",
       "      <td>770.0</td>\n",
       "      <td>10000.0</td>\n",
       "      <td>1.0</td>\n",
       "    </tr>\n",
       "    <tr>\n",
       "      <th>3</th>\n",
       "      <td>4.0</td>\n",
       "      <td>3.00</td>\n",
       "      <td>1960.0</td>\n",
       "      <td>5000.0</td>\n",
       "      <td>1.0</td>\n",
       "    </tr>\n",
       "    <tr>\n",
       "      <th>4</th>\n",
       "      <td>3.0</td>\n",
       "      <td>2.00</td>\n",
       "      <td>1680.0</td>\n",
       "      <td>8080.0</td>\n",
       "      <td>1.0</td>\n",
       "    </tr>\n",
       "  </tbody>\n",
       "</table>\n",
       "</div>"
      ],
      "text/plain": [
       "   bedrooms  bathrooms  sqft_living  sqft_lot  floors\n",
       "0       3.0       1.00       1180.0    5650.0     1.0\n",
       "1       3.0       2.25       2570.0    7242.0     2.0\n",
       "2       2.0       1.00        770.0   10000.0     1.0\n",
       "3       4.0       3.00       1960.0    5000.0     1.0\n",
       "4       3.0       2.00       1680.0    8080.0     1.0"
      ]
     },
     "execution_count": 87,
     "metadata": {},
     "output_type": "execute_result"
    }
   ],
   "source": [
    "train[features].head()"
   ]
  },
  {
   "cell_type": "code",
   "execution_count": 88,
   "id": "79d04c27",
   "metadata": {},
   "outputs": [],
   "source": [
    "test_X2 = test[features]\n",
    "pred_y2 = reg2.predict(test_X2)\n",
    "test_y2 = test[['price']]"
   ]
  },
  {
   "cell_type": "code",
   "execution_count": 89,
   "id": "81af6ec0",
   "metadata": {},
   "outputs": [
    {
     "name": "stdout",
     "output_type": "stream",
     "text": [
      "Coefficients:  [[-55279.   1891.    319.     -0.  -4655.]]\n",
      "Intercept: 72680.49\n",
      "Mean squared error: 67009186490.95\n",
      "Root Mean squared error: 258861.33\n",
      "Coefficient of determination: 0.51\n"
     ]
    }
   ],
   "source": [
    "# The coefficients\n",
    "print(\"Coefficients: \", np.round(reg2.coef_,0))\n",
    "# The intercept\n",
    "print(\"Intercept: %.2f\" % reg2.intercept_)\n",
    "\n",
    "# The mean squared error\n",
    "print(\"Mean squared error: %.2f\" % mean_squared_error(test_y2, pred_y2))\n",
    "\n",
    "# The root mean squared error\n",
    "print(\"Root Mean squared error: %.2f\" % np.sqrt(mean_squared_error(test_y2, pred_y2)))\n",
    "\n",
    "# The coefficient of determination: 1 is perfect prediction\n",
    "print(\"Coefficient of determination: %.2f\" % r2_score(test_y2, pred_y2))"
   ]
  },
  {
   "cell_type": "markdown",
   "id": "8abf6f64",
   "metadata": {},
   "source": [
    "## One hot encoding for zipcode"
   ]
  },
  {
   "cell_type": "code",
   "execution_count": 119,
   "id": "56f077f3",
   "metadata": {},
   "outputs": [
    {
     "name": "stderr",
     "output_type": "stream",
     "text": [
      "/var/folders/n1/7h17z12x07x_gm5sbswxd9k00000gn/T/ipykernel_13822/3719166185.py:1: FutureWarning: In a future version of pandas all arguments of concat except for the argument 'objs' will be keyword-only.\n",
      "  sales2 = pd.concat((sales[features + ['zipcode', 'price', 'id']],pd.get_dummies(sales.zipcode)),1)\n"
     ]
    },
    {
     "data": {
      "text/plain": [
       "['bedrooms',\n",
       " 'bathrooms',\n",
       " 'sqft_living',\n",
       " 'sqft_lot',\n",
       " 'floors',\n",
       " '98001',\n",
       " '98002',\n",
       " '98003',\n",
       " '98004',\n",
       " '98005']"
      ]
     },
     "execution_count": 119,
     "metadata": {},
     "output_type": "execute_result"
    }
   ],
   "source": [
    "sales2 = pd.concat((sales[features + ['zipcode', 'price', 'id']],pd.get_dummies(sales.zipcode)),1)\n",
    "features2 = sales2.columns.tolist()\n",
    "features2.remove('zipcode')\n",
    "features2.remove('price')\n",
    "features2.remove('id')\n",
    "features2[0:10]\n"
   ]
  },
  {
   "cell_type": "code",
   "execution_count": 73,
   "id": "f9aa516d",
   "metadata": {},
   "outputs": [],
   "source": [
    "train2, test2 = train_test_split(sales2, test_size=0.2, random_state=42, shuffle=False)\n"
   ]
  },
  {
   "cell_type": "code",
   "execution_count": 90,
   "id": "1244545d",
   "metadata": {},
   "outputs": [],
   "source": [
    "from sklearn.linear_model import Ridge"
   ]
  },
  {
   "cell_type": "code",
   "execution_count": 102,
   "id": "768b8197",
   "metadata": {},
   "outputs": [],
   "source": [
    "from sklearn.linear_model import Lasso"
   ]
  },
  {
   "cell_type": "code",
   "execution_count": 113,
   "id": "c19984de",
   "metadata": {},
   "outputs": [],
   "source": [
    "train2_X = train2[features2]\n",
    "train2_y= train2['price']\n",
    "test2_X = test2[features2]\n",
    "test2_y = test2[['price']]\n",
    "\n",
    "reg_onehot = Lasso(alpha=100).fit(train2_X, train2_y)\n",
    "pred2_y = reg_onehot.predict(test2_X)"
   ]
  },
  {
   "cell_type": "code",
   "execution_count": 114,
   "id": "50e29b27",
   "metadata": {},
   "outputs": [
    {
     "name": "stdout",
     "output_type": "stream",
     "text": [
      "Coefficients:  [-4.526800e+04  1.448400e+04  2.710000e+02  0.000000e+00 -9.036000e+03\n",
      " -1.523570e+05 -1.199320e+05 -1.528540e+05  6.344850e+05  1.669810e+05\n",
      "  1.628250e+05  9.965400e+04  1.178500e+05 -7.451600e+04 -2.711300e+04\n",
      " -6.691100e+04 -8.086600e+04 -1.274090e+05 -1.722420e+05 -0.000000e+00\n",
      " -0.000000e+00 -2.852200e+04  5.014400e+04 -1.443330e+05 -1.426930e+05\n",
      " -1.390080e+05  2.212570e+05  5.453300e+04 -1.421080e+05  1.157071e+06\n",
      "  4.347340e+05 -1.489970e+05 -4.638000e+04  7.906100e+04  1.604600e+04\n",
      " -9.960400e+04 -5.002000e+04 -1.237670e+05 -6.265500e+04 -7.981600e+04\n",
      "  0.000000e+00 -0.000000e+00  3.512900e+04  5.251600e+04 -1.327800e+04\n",
      " -1.779060e+05  3.688850e+05  2.017750e+05  3.511990e+05 -1.113300e+04\n",
      "  1.892460e+05 -2.480700e+04  3.813210e+05  4.967540e+05  1.844820e+05\n",
      "  1.815350e+05  1.745500e+05  2.547200e+04  3.764570e+05  2.032350e+05\n",
      "  5.281200e+04  5.833400e+04  9.361000e+03  1.376850e+05  1.481090e+05\n",
      " -6.029000e+03 -4.825000e+04  6.349000e+03 -1.961400e+04 -8.572900e+04\n",
      "  9.239500e+04 -7.241300e+04 -1.073540e+05 -1.030700e+05  2.613930e+05]\n",
      "Intercept: 63688.71\n",
      "Mean squared error: 34005018686.59\n",
      "Root Mean squared error: 184404.50\n",
      "Coefficient of determination: 0.75\n"
     ]
    }
   ],
   "source": [
    "# The coefficients\n",
    "print(\"Coefficients: \", np.round(reg_onehot.coef_,0))\n",
    "# The intercept\n",
    "print(\"Intercept: %.2f\" % reg_onehot.intercept_)\n",
    "\n",
    "# The mean squared error\n",
    "print(\"Mean squared error: %.2f\" % mean_squared_error(test2_y, pred2_y))\n",
    "\n",
    "# The root mean squared error\n",
    "print(\"Root Mean squared error: %.2f\" % np.sqrt(mean_squared_error(test2_y, pred2_y)))\n",
    "\n",
    "# The coefficient of determination: 1 is perfect prediction\n",
    "print(\"Coefficient of determination: %.2f\" % r2_score(test2_y, pred2_y))"
   ]
  },
  {
   "cell_type": "markdown",
   "id": "a2296379",
   "metadata": {},
   "source": [
    "## Apply learned models to make predictions "
   ]
  },
  {
   "cell_type": "code",
   "execution_count": 18,
   "id": "910fd206",
   "metadata": {},
   "outputs": [
    {
     "data": {
      "text/html": [
       "<div>\n",
       "<style scoped>\n",
       "    .dataframe tbody tr th:only-of-type {\n",
       "        vertical-align: middle;\n",
       "    }\n",
       "\n",
       "    .dataframe tbody tr th {\n",
       "        vertical-align: top;\n",
       "    }\n",
       "\n",
       "    .dataframe thead th {\n",
       "        text-align: right;\n",
       "    }\n",
       "</style>\n",
       "<table border=\"1\" class=\"dataframe\">\n",
       "  <thead>\n",
       "    <tr style=\"text-align: right;\">\n",
       "      <th></th>\n",
       "      <th>id</th>\n",
       "      <th>date</th>\n",
       "      <th>price</th>\n",
       "      <th>bedrooms</th>\n",
       "      <th>bathrooms</th>\n",
       "      <th>sqft_living</th>\n",
       "      <th>sqft_lot</th>\n",
       "      <th>floors</th>\n",
       "      <th>waterfront</th>\n",
       "      <th>view</th>\n",
       "      <th>...</th>\n",
       "      <th>grade</th>\n",
       "      <th>sqft_above</th>\n",
       "      <th>sqft_basement</th>\n",
       "      <th>yr_built</th>\n",
       "      <th>yr_renovated</th>\n",
       "      <th>zipcode</th>\n",
       "      <th>lat</th>\n",
       "      <th>long</th>\n",
       "      <th>sqft_living15</th>\n",
       "      <th>sqft_lot15</th>\n",
       "    </tr>\n",
       "  </thead>\n",
       "  <tbody>\n",
       "    <tr>\n",
       "      <th>1054</th>\n",
       "      <td>5309101200</td>\n",
       "      <td>2014-06-05 00:00:00+00:00</td>\n",
       "      <td>620000.0</td>\n",
       "      <td>4.0</td>\n",
       "      <td>2.25</td>\n",
       "      <td>2400.0</td>\n",
       "      <td>5350.0</td>\n",
       "      <td>1.5</td>\n",
       "      <td>0</td>\n",
       "      <td>0</td>\n",
       "      <td>...</td>\n",
       "      <td>7.0</td>\n",
       "      <td>1460.0</td>\n",
       "      <td>940.0</td>\n",
       "      <td>1929.0</td>\n",
       "      <td>0.0</td>\n",
       "      <td>98117</td>\n",
       "      <td>47.676324</td>\n",
       "      <td>-122.370101</td>\n",
       "      <td>1250.0</td>\n",
       "      <td>4880.0</td>\n",
       "    </tr>\n",
       "  </tbody>\n",
       "</table>\n",
       "<p>1 rows × 21 columns</p>\n",
       "</div>"
      ],
      "text/plain": [
       "              id                       date     price  bedrooms  bathrooms  \\\n",
       "1054  5309101200  2014-06-05 00:00:00+00:00  620000.0       4.0       2.25   \n",
       "\n",
       "      sqft_living  sqft_lot  floors  waterfront  view  ...  grade  sqft_above  \\\n",
       "1054       2400.0    5350.0     1.5           0     0  ...    7.0      1460.0   \n",
       "\n",
       "      sqft_basement  yr_built  yr_renovated  zipcode        lat        long  \\\n",
       "1054          940.0    1929.0           0.0    98117  47.676324 -122.370101   \n",
       "\n",
       "      sqft_living15  sqft_lot15  \n",
       "1054         1250.0      4880.0  \n",
       "\n",
       "[1 rows x 21 columns]"
      ]
     },
     "execution_count": 18,
     "metadata": {},
     "output_type": "execute_result"
    }
   ],
   "source": [
    "house1 = sales[sales['id']=='5309101200']\n",
    "house1"
   ]
  },
  {
   "cell_type": "code",
   "execution_count": 19,
   "id": "83637e6d",
   "metadata": {},
   "outputs": [
    {
     "name": "stdout",
     "output_type": "stream",
     "text": [
      "1054    620000.0\n",
      "Name: price, dtype: float64\n"
     ]
    }
   ],
   "source": [
    "print(house1['price'])"
   ]
  },
  {
   "cell_type": "code",
   "execution_count": 120,
   "id": "b265bfce",
   "metadata": {},
   "outputs": [
    {
     "name": "stdout",
     "output_type": "stream",
     "text": [
      "[[631461.36986382]]\n",
      "[[612833.3755994]]\n",
      "[727537.09399579]\n"
     ]
    }
   ],
   "source": [
    "print(reg.predict(house1[['sqft_living']]))\n",
    "print(reg2.predict(house1[features]))\n",
    "print(reg_onehot.predict(sales2[sales['id']=='5309101200'][features2]))\n",
    "\n"
   ]
  },
  {
   "cell_type": "code",
   "execution_count": 21,
   "id": "f1abf79f",
   "metadata": {},
   "outputs": [
    {
     "data": {
      "text/html": [
       "<div>\n",
       "<style scoped>\n",
       "    .dataframe tbody tr th:only-of-type {\n",
       "        vertical-align: middle;\n",
       "    }\n",
       "\n",
       "    .dataframe tbody tr th {\n",
       "        vertical-align: top;\n",
       "    }\n",
       "\n",
       "    .dataframe thead th {\n",
       "        text-align: right;\n",
       "    }\n",
       "</style>\n",
       "<table border=\"1\" class=\"dataframe\">\n",
       "  <thead>\n",
       "    <tr style=\"text-align: right;\">\n",
       "      <th></th>\n",
       "      <th>price</th>\n",
       "    </tr>\n",
       "  </thead>\n",
       "  <tbody>\n",
       "    <tr>\n",
       "      <th>1361</th>\n",
       "      <td>2200000.0</td>\n",
       "    </tr>\n",
       "  </tbody>\n",
       "</table>\n",
       "</div>"
      ],
      "text/plain": [
       "          price\n",
       "1361  2200000.0"
      ]
     },
     "execution_count": 21,
     "metadata": {},
     "output_type": "execute_result"
    }
   ],
   "source": [
    "house2 = sales[sales['id']=='1925069082']\n",
    "house2[['price']]"
   ]
  },
  {
   "cell_type": "code",
   "execution_count": 121,
   "id": "56b7c0c8",
   "metadata": {},
   "outputs": [
    {
     "name": "stdout",
     "output_type": "stream",
     "text": [
      "[[1267362.03288604]]\n",
      "<class 'pandas.core.frame.DataFrame'>\n",
      "<class 'numpy.ndarray'>\n",
      "[[1267163.0018738]]\n",
      "[1221864.44800628]\n"
     ]
    }
   ],
   "source": [
    "print(reg.predict(house2[['sqft_living']]))\n",
    "\n",
    "print(type(house2[['sqft_living']]))\n",
    "print(type(reg.predict(house2[['sqft_living']])))\n",
    "\n",
    "print(reg2.predict(house2[features]))\n",
    "print(reg_onehot.predict(sales2[sales['id']=='1925069082'][features2]))\n"
   ]
  },
  {
   "cell_type": "markdown",
   "id": "f2b46e9a",
   "metadata": {},
   "source": [
    "## Prediction for a super fancy home"
   ]
  },
  {
   "cell_type": "code",
   "execution_count": 23,
   "id": "5a31d60d",
   "metadata": {},
   "outputs": [],
   "source": [
    "bill_gates = {'bedrooms':[8], \n",
    "              'bathrooms':[25], \n",
    "              'sqft_living':[50000], \n",
    "              'sqft_lot':[225000],\n",
    "              'floors':[4], \n",
    "              'zipcode':['98039'], \n",
    "              'condition':[10], \n",
    "              'grade':[10],\n",
    "              'waterfront':[1],\n",
    "              'view':[4],\n",
    "              'sqft_above':[37500],\n",
    "              'sqft_basement':[12500],\n",
    "              'yr_built':[1994],\n",
    "              'yr_renovated':[2010],\n",
    "              'lat':[47.627606],\n",
    "              'long':[-122.242054],\n",
    "              'sqft_living15':[5000],\n",
    "              'sqft_lot15':[40000]}"
   ]
  },
  {
   "cell_type": "code",
   "execution_count": 28,
   "id": "2ce1ca0e",
   "metadata": {},
   "outputs": [
    {
     "data": {
      "text/plain": [
       "list"
      ]
     },
     "execution_count": 28,
     "metadata": {},
     "output_type": "execute_result"
    }
   ],
   "source": [
    "type(bill_gates['sqft_living'])"
   ]
  },
  {
   "cell_type": "markdown",
   "id": "43c64676",
   "metadata": {},
   "source": [
    "#### convert dict to dataframe"
   ]
  },
  {
   "cell_type": "code",
   "execution_count": 24,
   "id": "6e9410d3",
   "metadata": {},
   "outputs": [
    {
     "data": {
      "text/plain": [
       "dict"
      ]
     },
     "execution_count": 24,
     "metadata": {},
     "output_type": "execute_result"
    }
   ],
   "source": [
    "type(bill_gates)"
   ]
  },
  {
   "cell_type": "code",
   "execution_count": 25,
   "id": "2ed907cc",
   "metadata": {},
   "outputs": [
    {
     "data": {
      "text/html": [
       "<div>\n",
       "<style scoped>\n",
       "    .dataframe tbody tr th:only-of-type {\n",
       "        vertical-align: middle;\n",
       "    }\n",
       "\n",
       "    .dataframe tbody tr th {\n",
       "        vertical-align: top;\n",
       "    }\n",
       "\n",
       "    .dataframe thead th {\n",
       "        text-align: right;\n",
       "    }\n",
       "</style>\n",
       "<table border=\"1\" class=\"dataframe\">\n",
       "  <thead>\n",
       "    <tr style=\"text-align: right;\">\n",
       "      <th></th>\n",
       "      <th>bedrooms</th>\n",
       "      <th>bathrooms</th>\n",
       "      <th>sqft_living</th>\n",
       "      <th>sqft_lot</th>\n",
       "      <th>floors</th>\n",
       "      <th>zipcode</th>\n",
       "      <th>condition</th>\n",
       "      <th>grade</th>\n",
       "      <th>waterfront</th>\n",
       "      <th>view</th>\n",
       "      <th>sqft_above</th>\n",
       "      <th>sqft_basement</th>\n",
       "      <th>yr_built</th>\n",
       "      <th>yr_renovated</th>\n",
       "      <th>lat</th>\n",
       "      <th>long</th>\n",
       "      <th>sqft_living15</th>\n",
       "      <th>sqft_lot15</th>\n",
       "    </tr>\n",
       "  </thead>\n",
       "  <tbody>\n",
       "    <tr>\n",
       "      <th>0</th>\n",
       "      <td>8</td>\n",
       "      <td>25</td>\n",
       "      <td>50000</td>\n",
       "      <td>225000</td>\n",
       "      <td>4</td>\n",
       "      <td>98039</td>\n",
       "      <td>10</td>\n",
       "      <td>10</td>\n",
       "      <td>1</td>\n",
       "      <td>4</td>\n",
       "      <td>37500</td>\n",
       "      <td>12500</td>\n",
       "      <td>1994</td>\n",
       "      <td>2010</td>\n",
       "      <td>47.627606</td>\n",
       "      <td>-122.242054</td>\n",
       "      <td>5000</td>\n",
       "      <td>40000</td>\n",
       "    </tr>\n",
       "  </tbody>\n",
       "</table>\n",
       "</div>"
      ],
      "text/plain": [
       "   bedrooms  bathrooms  sqft_living  sqft_lot  floors zipcode  condition  \\\n",
       "0         8         25        50000    225000       4   98039         10   \n",
       "\n",
       "   grade  waterfront  view  sqft_above  sqft_basement  yr_built  yr_renovated  \\\n",
       "0     10           1     4       37500          12500      1994          2010   \n",
       "\n",
       "         lat        long  sqft_living15  sqft_lot15  \n",
       "0  47.627606 -122.242054           5000       40000  "
      ]
     },
     "execution_count": 25,
     "metadata": {},
     "output_type": "execute_result"
    }
   ],
   "source": [
    "s = pd.DataFrame.from_dict(bill_gates)\n",
    "s"
   ]
  },
  {
   "cell_type": "code",
   "execution_count": 122,
   "id": "45d52202",
   "metadata": {},
   "outputs": [
    {
     "name": "stdout",
     "output_type": "stream",
     "text": [
      "[[14144350.45908586]]\n",
      "[[15530620.78287329]]\n"
     ]
    }
   ],
   "source": [
    "print(reg.predict(s[['sqft_living']]))\n",
    "print(reg2.predict(s[features]))"
   ]
  },
  {
   "cell_type": "code",
   "execution_count": 27,
   "id": "88a9540c",
   "metadata": {},
   "outputs": [
    {
     "data": {
      "text/plain": [
       "list"
      ]
     },
     "execution_count": 27,
     "metadata": {},
     "output_type": "execute_result"
    }
   ],
   "source": []
  }
 ],
 "metadata": {
  "kernelspec": {
   "display_name": "Python 3 (ipykernel)",
   "language": "python",
   "name": "python3"
  },
  "language_info": {
   "codemirror_mode": {
    "name": "ipython",
    "version": 3
   },
   "file_extension": ".py",
   "mimetype": "text/x-python",
   "name": "python",
   "nbconvert_exporter": "python",
   "pygments_lexer": "ipython3",
   "version": "3.8.12"
  }
 },
 "nbformat": 4,
 "nbformat_minor": 5
}
